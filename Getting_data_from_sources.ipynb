{
  "nbformat": 4,
  "nbformat_minor": 0,
  "metadata": {
    "colab": {
      "name": "Getting_data_from_sources.ipynb",
      "provenance": [],
      "collapsed_sections": [],
      "toc_visible": true,
      "authorship_tag": "ABX9TyOXLZD0g28PMolkPvJUtumd",
      "include_colab_link": true
    },
    "kernelspec": {
      "name": "python3",
      "display_name": "Python 3"
    },
    "language_info": {
      "name": "python"
    }
  },
  "cells": [
    {
      "cell_type": "markdown",
      "metadata": {
        "id": "view-in-github",
        "colab_type": "text"
      },
      "source": [
        "<a href=\"https://colab.research.google.com/github/njaincode/PDA_portfolio/blob/main/Getting_data_from_sources.ipynb\" target=\"_parent\"><img src=\"https://colab.research.google.com/assets/colab-badge.svg\" alt=\"Open In Colab\"/></a>"
      ]
    },
    {
      "cell_type": "markdown",
      "metadata": {
        "id": "cdf6t95zAp5T"
      },
      "source": [
        "**Functions below use Panda functions read_html(), read_csv(), read_excel() to read data and create dataframe.**\n"
      ]
    },
    {
      "cell_type": "markdown",
      "metadata": {
        "id": "1fKEQEgi_j2G"
      },
      "source": [
        "# Read data from web"
      ]
    },
    {
      "cell_type": "code",
      "metadata": {
        "id": "9OALJzUkAGaR"
      },
      "source": [
        "import pandas as pd\n",
        "datatables = pd.read_html('https://en.wikipedia.org/wiki/Glasgow#Climate')\n",
        "df = datatables[7]  #Glasgow population data\n",
        "df"
      ],
      "execution_count": null,
      "outputs": []
    },
    {
      "cell_type": "markdown",
      "metadata": {
        "id": "HMSe6mS3_sMJ"
      },
      "source": [
        "# Read data from csv"
      ]
    },
    {
      "cell_type": "code",
      "metadata": {
        "id": "WeTVwG1AAK-U"
      },
      "source": [
        "import pandas as pd\n",
        "url = \"https://raw.githubusercontent.com/futureCodersSE/working-with-data/main/Data%20sets/Paisley-Weather-Data.csv\"\n",
        "df = pd.read_csv(url)\n",
        "df"
      ],
      "execution_count": null,
      "outputs": []
    },
    {
      "cell_type": "markdown",
      "metadata": {
        "id": "KESKlwyj_u2q"
      },
      "source": [
        "# Read data from excel"
      ]
    },
    {
      "cell_type": "code",
      "metadata": {
        "id": "d2KmkqV3AOuQ"
      },
      "source": [
        "import pandas as pd\n",
        "url = \"https://github.com/futureCodersSE/working-with-data/blob/main/Data%20sets/public_use-talent-migration.xlsx?raw=true\"\n",
        "df = pd.read_excel(url,sheet_name=\"Industry Migration\")\n",
        "df"
      ],
      "execution_count": null,
      "outputs": []
    },
    {
      "cell_type": "markdown",
      "metadata": {
        "id": "-9CXiXlV_0ze"
      },
      "source": [
        "# Read data from API in JSON format"
      ]
    },
    {
      "cell_type": "code",
      "metadata": {
        "id": "Hno9eEFkARsy"
      },
      "source": [
        "import pandas as pd\n",
        "import requests\n",
        "\n",
        "url = \"https://api.carbonintensity.org.uk/regional\"\n",
        "json_data = requests.get(url).json()['data']\n",
        "data_table = json_data[0]\n",
        "df = pd.json_normalize(data_table['regions'])\n",
        "df"
      ],
      "execution_count": null,
      "outputs": []
    },
    {
      "cell_type": "markdown",
      "metadata": {
        "id": "WELA3y-j_8sC"
      },
      "source": [
        "# Upload a datafile in GitHub and load it in dataframe"
      ]
    },
    {
      "cell_type": "code",
      "metadata": {
        "id": "wI39Sw5wAVmd"
      },
      "source": [
        "import pandas as pd\n",
        "\n",
        "def example_read_csv():\n",
        "  csv_link = 'https://github.com/njaincode/python_for_data_science/blob/main/DataSets/housing_in_london_yearly_variables.csv'\n",
        "  csv_raw_link = 'https://raw.githubusercontent.com/njaincode/python_for_data_science/main/DataSets/housing_in_london_yearly_variables.csv'\n",
        "\n",
        "  csv_dataframe = pd.read_csv(csv_raw_link)\n",
        "\n",
        "  # Print the dataframe\n",
        "  print(type(csv_dataframe))\n",
        "  print(csv_dataframe.shape)\n",
        "  print(csv_dataframe.info())\n",
        "  #print(csv_dataframe['area'])\n",
        "\n",
        "example_read_csv()\n"
      ],
      "execution_count": null,
      "outputs": []
    },
    {
      "cell_type": "markdown",
      "metadata": {
        "id": "bMjRPNyuAoGZ"
      },
      "source": [
        ""
      ]
    }
  ]
}