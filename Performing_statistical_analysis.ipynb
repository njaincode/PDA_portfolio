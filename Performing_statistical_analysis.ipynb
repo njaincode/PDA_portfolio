{
  "nbformat": 4,
  "nbformat_minor": 0,
  "metadata": {
    "colab": {
      "name": "Performing_statistical_analysis.ipynb",
      "provenance": [],
      "collapsed_sections": [],
      "toc_visible": true,
      "authorship_tag": "ABX9TyPaxdPanzjIE/bMSFBupmBn",
      "include_colab_link": true
    },
    "kernelspec": {
      "name": "python3",
      "display_name": "Python 3"
    },
    "language_info": {
      "name": "python"
    }
  },
  "cells": [
    {
      "cell_type": "markdown",
      "metadata": {
        "id": "view-in-github",
        "colab_type": "text"
      },
      "source": [
        "<a href=\"https://colab.research.google.com/github/njaincode/PDA_portfolio/blob/main/Performing_statistical_analysis.ipynb\" target=\"_parent\"><img src=\"https://colab.research.google.com/assets/colab-badge.svg\" alt=\"Open In Colab\"/></a>"
      ]
    },
    {
      "cell_type": "markdown",
      "metadata": {
        "id": "vNYK9OgQjsJG"
      },
      "source": [
        "# Measuring central tendencies (min, max, mean, standard deviation etc.)\n",
        "\n",
        "\n",
        "> The calculate_stat() below calculates the basic stats using describe() function.\n",
        "The stats are calculated on income, population and age.\n",
        "\n"
      ]
    },
    {
      "cell_type": "code",
      "metadata": {
        "colab": {
          "base_uri": "https://localhost:8080/",
          "height": 1000
        },
        "id": "Ise4D3cvj9R1",
        "outputId": "887f0a3a-721d-4d20-d79e-3d49571e1369"
      },
      "source": [
        "import pandas as pd\n",
        "import matplotlib.pyplot as plt\n",
        "\n",
        "def clean_state(df):\n",
        "  # convert the values in the Pop column to numbers of 1000s from actual numbers (rounded)\n",
        "  df['Pop'] = (df['Pop']/1000).round()\n",
        "  # convert the values in the 'Pop' column to int64\n",
        "  df['Pop'] = df['Pop'].astype(int)\n",
        "  return df\n",
        "\n",
        "def clean_county(df):\n",
        "  # Add a new column called 'Pop' to the county_level_df dataframe\n",
        "  df['Pop'] = df['Population']\n",
        "  # Drop the 'Population' column \n",
        "  df.drop('Population', axis=1, inplace=True)\n",
        "  return df\n",
        "\n",
        "def get_income_df():\n",
        "  excel_url = 'https://github.com/futureCodersSE/working-with-data/blob/main/Data%20sets/Income-Data.xlsx?raw=true'\n",
        "  \n",
        "  # 1. Read the three sheets into the dataframes\n",
        "  county_level_df = pd.read_excel(excel_url, sheet_name='county-level')\n",
        "  state_level_df = pd.read_excel(excel_url, sheet_name='state-level')\n",
        "  income_new_df = pd.read_excel(excel_url, sheet_name='income')\n",
        "\n",
        "  # 2. Cleanup Population column\n",
        "  clean_county(county_level_df)\n",
        "  \n",
        "  # 3. Cleanup Pop column\n",
        "  clean_state(state_level_df)\n",
        "\n",
        "  # 4. Combine two df\n",
        "  df_to_concat = [county_level_df, state_level_df]\n",
        "  county_state_combined_df = pd.concat(df_to_concat, ignore_index=True, join='inner')\n",
        "  \n",
        "  # 5. Append income_df to the combined dataframe\n",
        "  income_df = county_state_combined_df.append(income_new_df, ignore_index=True)\n",
        "  return income_df\n",
        "\n",
        "def calculate_stat():\n",
        "  # 1. Run the function get_income_df() and store the result in a new dataframe called income_df.\n",
        "  income_df = get_income_df()\n",
        "\n",
        "  # 2. Group income_df by State and calculate some statistics on the groups.\n",
        "  # Now the index will be state names\n",
        "  df_groupby_state = income_df.groupby('State')\n",
        "\n",
        "  # To get an overview of stats per state\n",
        "  for state, frame in df_groupby_state:\n",
        "    print(f\"Average age for {state!r}\")\n",
        "    print(\"------------------------\")\n",
        "    print(frame.describe(), end=\"\\n\\n\")\n",
        "\n",
        "  df_groupby_state[['Income', 'Age', 'Pop']].mean().plot(kind='bar', title='State Comparison', ylabel='Mean values', xlabel='State', figsize=(6, 5))\n",
        "  plt.show()\n",
        "\n",
        "    \n",
        "calculate_stat()\n"
      ],
      "execution_count": 7,
      "outputs": [
        {
          "output_type": "stream",
          "text": [
            "Average age for 'CA'\n",
            "------------------------\n",
            "             Age     Income        Pop\n",
            "count   3.000000   3.000000   3.000000\n",
            "mean   33.000000  66.333333  31.333333\n",
            "std     3.464102  12.013881  22.030282\n",
            "min    29.000000  54.000000  10.000000\n",
            "25%    32.000000  60.500000  20.000000\n",
            "50%    35.000000  67.000000  30.000000\n",
            "75%    35.000000  72.500000  42.000000\n",
            "max    35.000000  78.000000  54.000000\n",
            "\n",
            "Average age for 'IN'\n",
            "------------------------\n",
            "             Age     Income        Pop\n",
            "count   3.000000   3.000000   3.000000\n",
            "mean   38.000000  46.333333  17.333333\n",
            "std     5.196152  19.629909  10.692677\n",
            "min    32.000000  35.000000   5.000000\n",
            "25%    36.500000  35.000000  14.000000\n",
            "50%    41.000000  35.000000  23.000000\n",
            "75%    41.000000  52.000000  23.500000\n",
            "max    41.000000  69.000000  24.000000\n",
            "\n",
            "Average age for 'MD'\n",
            "------------------------\n",
            "             Age     Income        Pop\n",
            "count  13.000000  13.000000  13.000000\n",
            "mean   28.076923  64.230769  44.384615\n",
            "std     5.203549  16.931991  30.845147\n",
            "min    22.000000  22.000000   5.000000\n",
            "25%    25.000000  65.000000  21.000000\n",
            "50%    27.000000  69.000000  34.000000\n",
            "75%    30.000000  73.000000  64.000000\n",
            "max    41.000000  81.000000  98.000000\n",
            "\n",
            "Average age for 'NY'\n",
            "------------------------\n",
            "             Age     Income        Pop\n",
            "count   3.000000   3.000000   3.000000\n",
            "mean   32.333333  74.333333  12.000000\n",
            "std     2.886751   6.350853   5.567764\n",
            "min    29.000000  67.000000   7.000000\n",
            "25%    31.500000  72.500000   9.000000\n",
            "50%    34.000000  78.000000  11.000000\n",
            "75%    34.000000  78.000000  14.500000\n",
            "max    34.000000  78.000000  18.000000\n",
            "\n",
            "Average age for 'TX'\n",
            "------------------------\n",
            "             Age     Income        Pop\n",
            "count  11.000000  11.000000  11.000000\n",
            "mean   34.181818  59.454545  39.181818\n",
            "std     6.161464   9.668129  26.049254\n",
            "min    23.000000  45.000000   5.000000\n",
            "25%    32.000000  53.500000  24.500000\n",
            "50%    35.000000  62.000000  28.000000\n",
            "75%    38.000000  65.500000  62.000000\n",
            "max    42.000000  75.000000  82.000000\n",
            "\n"
          ],
          "name": "stdout"
        },
        {
          "output_type": "display_data",
          "data": {
            "image/png": "[encoded data removed]",
            "text/plain": [
              "<Figure size 432x360 with 1 Axes>"
            ]
          },
          "metadata": {
            "tags": [],
            "needs_background": "light"
          }
        }
      ]
    },
    {
      "cell_type": "markdown",
      "metadata": {
        "id": "oFinj5lwlmbU"
      },
      "source": [
        "# Normal distribution"
      ]
    },
    {
      "cell_type": "markdown",
      "metadata": {
        "id": "gNLdpptqnzQC"
      },
      "source": [
        "## Gaussian data distribution"
      ]
    },
    {
      "cell_type": "code",
      "metadata": {
        "id": "rmA0bkFYmkGk"
      },
      "source": [
        "import matplotlib.pyplot as plt\n",
        "import pandas as pd\n",
        "from scipy import stats\n",
        "\n",
        "def visual_check_for_gaussian_distribution():\n",
        "  csv_url = 'https://github.com/lilaceri/Working-with-data-/blob/b157a2feceb7709cf82426932385706d65446270/Data%20Sets%20for%20code%20divisio/Positive_Psychology_2017.csv?raw=true'\n",
        "  \n",
        "  #1. Read the csv into a data frame\n",
        "  psych_data = pd.read_csv(csv_url)\n",
        "\n",
        "  # 2. Check the data \n",
        "  print(psych_data.info())\n",
        "  if (psych_data.isna().values.any()) :\n",
        "    print(f'There are undefined values in dataset')\n",
        "    print(psych_data.columns[psych_data.isna().any()].tolist())\n",
        "    # Could have dropped NA values\n",
        "\n",
        "  #3. Check the distribution for Resilliance\n",
        "  df_r = psych_data['Resilliance']\n",
        "  # Just to see some values\n",
        "  print(df_r.head(10))\n",
        "\n",
        "  # Plot histogram  \n",
        "  plt.hist(df_r, color='red', label='Resilliance')\n",
        "  plt.title('Resilliance histogram')\n",
        "  plt.xlabel('Resilliance score')\n",
        "  plt.ylabel('Frequency')\n",
        "  plt.show()\n",
        "\n",
        "  # Probability plot\n",
        "  # If dots follow the line, the data is normally distributed\n",
        "  stats.probplot(df_r, plot=plt)\n",
        "  plt.show()\n",
        "\n",
        "  \n",
        "visual_check_for_gaussian_distribution()"
      ],
      "execution_count": null,
      "outputs": []
    },
    {
      "cell_type": "markdown",
      "metadata": {
        "id": "SFiuHrKEnpOF"
      },
      "source": [
        "## Non-Gaussian data distribution"
      ]
    },
    {
      "cell_type": "code",
      "metadata": {
        "colab": {
          "base_uri": "https://localhost:8080/",
          "height": 641
        },
        "id": "y32XP94gn4-S",
        "outputId": "47716582-27f5-439c-d900-130939381090"
      },
      "source": [
        "import matplotlib.pyplot as plt\n",
        "import pandas as pd\n",
        "from scipy import stats\n",
        "\n",
        "def visual_check_for_non_gaussian_distribution():\n",
        "  csv_url = 'https://raw.githubusercontent.com/futureCodersSE/working-with-data/main/Data%20sets/Data%20Cleaning%20Data%20Sets/presDirty.csv?raw=true'\n",
        "  \n",
        "  #1. Read the csv into a data frame\n",
        "  df = pd.read_csv(csv_url)\n",
        "\n",
        "  key_value = 'national_turnout'\n",
        "\n",
        "  # 2. Check the data \n",
        "  #print(df.info())\n",
        "  if (df.isna().values.any()) :\n",
        "    print(f'There are undefined values in dataset')\n",
        "    print(df.columns[df.isna().any()].tolist())\n",
        "    # Only remove undefined values from 'national_turnout' col.\n",
        "    # If all NA are dropped, there is no data left in national_turnout.\n",
        "    df.dropna(subset=[key_value], inplace=True)\n",
        "    \n",
        "  #3. Get national_turnout column\n",
        "  df_t = df[key_value]\n",
        "  #print(df_t.head(10))\n",
        "\n",
        "  # Normalise, first see min and max values\n",
        "  print(df_t.max())\n",
        "  print(df_t.min())\n",
        "  df_t = df_t/1000\n",
        "\n",
        "  # Histogram plot  \n",
        "  plt.hist(df_t, color='red')\n",
        "  plt.title('National turnout histogram')\n",
        "  plt.xlabel('Turnout numbers')\n",
        "  plt.ylabel('Frequency')\n",
        "  plt.show()\n",
        "\n",
        "  # Probability plot\n",
        "  # The dots dont fall on the line\n",
        "  stats.probplot(df_t, plot=plt)\n",
        "  plt.show()\n",
        "  \n",
        "  \n",
        "visual_check_for_non_gaussian_distribution()"
      ],
      "execution_count": 2,
      "outputs": [
        {
          "output_type": "stream",
          "text": [
            "There are undefined values in dataset\n",
            "['national_voteshare_3rd_lo', 'national_turnout', 'national_turnout_hi', 'national_turnout_lo']\n",
            "158044784.0\n",
            "141000000.0\n"
          ],
          "name": "stdout"
        },
        {
          "output_type": "display_data",
          "data": {
            "image/png": "[encoded data removed]",
            "text/plain": [
              "<Figure size 432x288 with 1 Axes>"
            ]
          },
          "metadata": {
            "tags": [],
            "needs_background": "light"
          }
        },
        {
          "output_type": "display_data",
          "data": {
            "image/png": "[encoded data removed]",
            "text/plain": [
              "<Figure size 432x288 with 1 Axes>"
            ]
          },
          "metadata": {
            "tags": [],
            "needs_background": "light"
          }
        }
      ]
    },
    {
      "cell_type": "markdown",
      "metadata": {
        "id": "TsvtW2cCkY0Z"
      },
      "source": [
        "# Linear regression"
      ]
    },
    {
      "cell_type": "markdown",
      "metadata": {
        "id": "rJwnvIFCsHx9"
      },
      "source": [
        "## Linear regression on normal data\n",
        "\n",
        "\n",
        "> Perform a linear regression (stats.linregress) to find a line of best fit between Resilliance (x) and selfesteem (y)\n",
        "\n"
      ]
    },
    {
      "cell_type": "code",
      "metadata": {
        "colab": {
          "base_uri": "https://localhost:8080/",
          "height": 953
        },
        "id": "LGJSCx0MsmbV",
        "outputId": "b7bc8c8c-bdd1-4ec5-c63b-0625bd11a4f3"
      },
      "source": [
        "import pandas as pd\n",
        "from scipy import stats\n",
        "from scipy.stats import linregress as lr\n",
        "\n",
        "def check_dist(ds):\n",
        "# Histogram plot  \n",
        "  plt.hist(ds, color='red')\n",
        "  plt.title('Variable histogram')\n",
        "  plt.xlabel('Variable')\n",
        "  plt.ylabel('Frequency')\n",
        "  plt.show()\n",
        "\n",
        "  # Probability plot\n",
        "  stats.probplot(ds, plot=plt)\n",
        "  plt.show()\n",
        "\n",
        "def regress_psychology():\n",
        "  csv_url = 'https://github.com/lilaceri/Working-with-data-/blob/b157a2feceb7709cf82426932385706d65446270/Data%20Sets%20for%20code%20divisio/Positive_Psychology_2017.csv?raw=true'\n",
        "  \n",
        "  # read csv\n",
        "  psycho_df = pd.read_csv(csv_url)\n",
        "  print(psycho_df.columns)\n",
        "\n",
        "  # Linear regression b/w Resilliance (x) and selfesteem (y)\n",
        "  # The goal is to produce a model that represents the ‘best fit’ to some observed data, according to an evaluation criterion we choose.\n",
        "  # rvalue - the correlation coefficient - this indicates how closely the line drawn from the linear regression data fits the actual data, the closer to 1 the better the fit\n",
        "  # pvalue - the probability of error if the regression line is extended to predict\n",
        "\n",
        "  # x - independent variable, y - dependent variable\n",
        "  x_key = 'Resilliance'\n",
        "  y_key = 'selfesteem'\n",
        "  x = psycho_df[x_key]\n",
        "  y = psycho_df[y_key]\n",
        "\n",
        "  # Check the distribution of x visually, good if its normally distributed\n",
        "  check_dist(x)\n",
        "\n",
        "  # Plot the data\n",
        "  plt.scatter(x, y, color='orange', label='Actual values')\n",
        "  plt.title('Resilliance vs self-esteem scatter plot')\n",
        "  plt.xlabel(x_key)\n",
        "  plt.ylabel(y_key)\n",
        "  # If show() is called here, below plot will be a new plot in new figure\n",
        "  #plt.show()\n",
        "\n",
        "  # Line of best fit\n",
        "  regression = lr(x, y)\n",
        "  print(regression)\n",
        "  print(f\"R-squared: {regression.rvalue**2:.6f}\")\n",
        "\n",
        "  slope = regression.slope\n",
        "  intercept = regression.intercept\n",
        "  # y^ = b0 + b1x -> b1=slope, b0=intercept\n",
        "  # y^ is the estimated value, y- -> mean value, y-> actual value\n",
        "  # R2 -> sum(y^ - y-)^2/ sum(y - y-)^2\n",
        "  # R2=1 -> estimated value == actual value -> perfect fit\n",
        "  plt.plot(x, slope*x + intercept, label='fitted line')\n",
        "  plt.legend()\n",
        "  plt.show()\n",
        "\n",
        "\n",
        "regress_psychology()"
      ],
      "execution_count": 5,
      "outputs": [
        {
          "output_type": "stream",
          "text": [
            "Index(['Age', 'English', 'firstlanguage', 'sex', 'origin', 'Ukresidence',\n",
            "       'MAAS', 'Resilliance', 'Wellbeing', 'Stress', 'selfesteem', 'LoC',\n",
            "       'sleep', 'Year'],\n",
            "      dtype='object')\n"
          ],
          "name": "stdout"
        },
        {
          "output_type": "display_data",
          "data": {
            "image/png": "[encoded data removed]",
            "text/plain": [
              "<Figure size 432x288 with 1 Axes>"
            ]
          },
          "metadata": {
            "tags": [],
            "needs_background": "light"
          }
        },
        {
          "output_type": "display_data",
          "data": {
            "image/png": "[encoded data removed]",
            "text/plain": [
              "<Figure size 432x288 with 1 Axes>"
            ]
          },
          "metadata": {
            "tags": [],
            "needs_background": "light"
          }
        },
        {
          "output_type": "stream",
          "text": [
            "LinregressResult(slope=0.5064300541744722, intercept=1.4588122120398985, rvalue=0.5913281212034439, pvalue=2.3709886829858514e-05, stderr=0.10656964988997152)\n",
            "R-squared: 0.349669\n"
          ],
          "name": "stdout"
        },
        {
          "output_type": "display_data",
          "data": {
            "image/png": "[encoded data removed]",
            "text/plain": [
              "<Figure size 432x288 with 1 Axes>"
            ]
          },
          "metadata": {
            "tags": [],
            "needs_background": "light"
          }
        }
      ]
    }
  ]
}